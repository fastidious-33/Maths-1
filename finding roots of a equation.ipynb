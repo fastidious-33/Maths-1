{
 "cells": [
  {
   "cell_type": "code",
   "execution_count": 84,
   "metadata": {},
   "outputs": [],
   "source": [
    "import numpy as np\n",
    "import math as ma\n",
    "import pandas as pd\n",
    "import sympy as sym\n",
    "import matplotlib.pyplot as plt\n",
    "import seaborn as sns\n",
    "x = sym.Symbol('x')"
   ]
  },
  {
   "cell_type": "markdown",
   "metadata": {},
   "source": [
    "# methods for finding root of a function "
   ]
  },
  {
   "cell_type": "markdown",
   "metadata": {},
   "source": [
    "\n",
    "zeros (roots) of a function are the values of x for which f(x)=0 "
   ]
  },
  {
   "cell_type": "markdown",
   "metadata": {},
   "source": [
    "let us define a function f(x)"
   ]
  },
  {
   "cell_type": "code",
   "execution_count": 85,
   "metadata": {},
   "outputs": [],
   "source": [
    "def f(x):\n",
    "    #f = x**3 - 6*x**2 + 11*x - 6\n",
    "    f = (x**2 - 1)**2 \n",
    "    return f"
   ]
  },
  {
   "cell_type": "code",
   "execution_count": 86,
   "metadata": {},
   "outputs": [],
   "source": [
    "def g(x):\n",
    "    g = sym.diff(f(x),x)\n",
    "    return g\n"
   ]
  },
  {
   "cell_type": "code",
   "execution_count": 87,
   "metadata": {},
   "outputs": [],
   "source": [
    "def h(x):\n",
    "    h = sym.diff(g(x),x)\n",
    "    return h\n"
   ]
  },
  {
   "cell_type": "code",
   "execution_count": 88,
   "metadata": {},
   "outputs": [],
   "source": [
    "def minima(y):\n",
    "    if g(x).evalf(subs={x: y}).round(6) == 0 :\n",
    "    \n",
    "        if h(x).evalf(subs={x : y}).round(6) > 0 :\n",
    "            print(y, 'is a local minima of ',f(x))\n",
    "        \n",
    "        elif h(x).evalf(subs={x : y}).round(6) == 0 :\n",
    "            print(y, 'is a saddle point of ',f(x))\n",
    "    \n",
    "        else : \n",
    "            print(f(x),'is differentiable at', y)\n",
    "    else :\n",
    "        print(f(x),'is not differentiable at', y)\n",
    "\n",
    "minima(-1)\n"
   ]
  },
  {
   "cell_type": "markdown",
   "metadata": {},
   "source": [
    "# plot for the fucntion f(x)"
   ]
  },
  {
   "cell_type": "code",
   "execution_count": 90,
   "metadata": {},
   "outputs": [
    {
     "data": {
      "image/png": "[encoded data removed]",
      "text/plain": [
       "<Figure size 432x288 with 1 Axes>"
      ]
     },
     "metadata": {
      "needs_background": "light"
     },
     "output_type": "display_data"
    },
    {
     "data": {
      "text/plain": [
       "<sympy.plotting.plot.Plot at 0x1283ffb80>"
      ]
     },
     "execution_count": 90,
     "metadata": {},
     "output_type": "execute_result"
    }
   ],
   "source": [
    "#sym.plot(f(x) , (x,-2,2) , ylim=(-3,3)  )\n",
    "sym.plot(f(x),(x,-3,3))"
   ]
  },
  {
   "cell_type": "markdown",
   "metadata": {},
   "source": [
    "# Stopping Criteria for iterative root finding method"
   ]
  },
  {
   "cell_type": "markdown",
   "metadata": {},
   "source": [
    "Accept x = x1 as a root of f(x) = 0 if any one of the following criteria is satisfied:\n",
    "    \n",
    "    1. |f(x1)| ≤ ǫ (The functional value is less than or equal to the tolerance).\n",
    "    \n",
    "    2. |x0−x1|/|x1| ≤ ǫ (The relative change is less than or equal to the tolerance).\n",
    "    \n",
    "    3. The number of iterations 'k' is greater than or equal to a predetermined number, say N"
   ]
  },
  {
   "cell_type": "markdown",
   "metadata": {},
   "source": [
    "Open methods begin with an initial guess of the root and then improving the guess iteratively.\n",
    "\n",
    "Bracketing methods provide an absolute error estimate on the root's location and always work but converge slowly. \n",
    "\n",
    "In contrast, open methods do not always converge."
   ]
  },
  {
   "cell_type": "markdown",
   "metadata": {},
   "source": [
    "Let a and b be said to bracket a root since, by the intermediate value theorem, \n",
    "\n",
    "the continuous function f must have at least one root in the interval (a, b)"
   ]
  },
  {
   "cell_type": "markdown",
   "metadata": {},
   "source": [
    "#  - Bisection Method "
   ]
  },
  {
   "cell_type": "markdown",
   "metadata": {},
   "source": [
    "Bisection is a bracket method because every interval brackets the root "
   ]
  },
  {
   "cell_type": "code",
   "execution_count": 91,
   "metadata": {},
   "outputs": [],
   "source": [
    "def bisection(a,b,sc):\n",
    "    \n",
    "    c = (a+b) / 2\n",
    "    \n",
    "    lists0 = [[round(a,4) , round(f(a),4) , round(b,4), round(f(b),4) , round(c,4) , round(f(c),4)] ]\n",
    "\n",
    "    i=0\n",
    "    while i < 20:\n",
    "        if abs(f(c)) < sc:\n",
    "            break\n",
    "        else:\n",
    "            if np.sign(f(c))==np.sign(f(a)):\n",
    "                a=c\n",
    "            else:\n",
    "                b=c\n",
    "        \n",
    "            c=(a+b)/2\n",
    "        lists0.append([round(a,4) , round(f(a),4) , round(b,4), round(f(b),4) , round(c,4) , round(f(c),4)] )\n",
    "        i=i+1\n",
    "    #print( \"approx root is\" , c )\n",
    "    return lists0"
   ]
  },
  {
   "cell_type": "markdown",
   "metadata": {},
   "source": [
    "if the function is continuous and f(a) and f(b) have opposite signs, then there is a root x = c of f(x) = 0 or \n",
    "in [a, b]."
   ]
  },
  {
   "cell_type": "code",
   "execution_count": 106,
   "metadata": {},
   "outputs": [
    {
     "name": "stdout",
     "output_type": "stream",
     "text": [
      "        a    f(a)    b  f(b)       c    f(c)\n",
      "0  0.0000  1.0000  1.0   0.0  0.5000  0.5625\n",
      "1  0.5000  0.5625  1.0   0.0  0.7500  0.1914\n",
      "2  0.7500  0.1914  1.0   0.0  0.8750  0.0549\n",
      "3  0.8750  0.0549  1.0   0.0  0.9375  0.0147\n",
      "4  0.9375  0.0147  1.0   0.0  0.9688  0.0038\n",
      "5  0.9688  0.0038  1.0   0.0  0.9844  0.0010\n",
      "6  0.9844  0.0010  1.0   0.0  0.9922  0.0002\n",
      "7  0.9922  0.0002  1.0   0.0  0.9961  0.0001\n",
      "the equation is  (x**2 - 1)**2\n",
      "approx root is 0.9961\n",
      "1.0 is f(a)\n",
      "0.0 is f(b)\n"
     ]
    }
   ],
   "source": [
    "a=float(input(\"enter 1:\"))\n",
    "b=float(input(\"enter 2:\"))\n",
    "sc=0.0001\n",
    "\n",
    "if np.sign(f(a))!= np.sign(f(b)) :\n",
    "    cols0 = ['a' , 'f(a)' , 'b' , 'f(b)' , 'c' ,  'f(c)'  ]\n",
    "    lists0 = bisection(a , b , sc)\n",
    "    df0 = pd.DataFrame(lists0 , columns = cols0) \n",
    "\n",
    "    print(df0)\n",
    "    print('the equation is ' , f(x))\n",
    "    print(\"approx root is\" , float(df0['c'][-1:]))\n",
    "    print(f(a),'is f(a)')\n",
    "    print(f(b),'is f(b)')\n",
    "else : \n",
    "    print('give a & b in accordance with the given criteria')"
   ]
  },
  {
   "cell_type": "markdown",
   "metadata": {},
   "source": [
    "# - Secant Method"
   ]
  },
  {
   "cell_type": "markdown",
   "metadata": {},
   "source": [
    "The secant method is z root-finding algorithm that uses a succession of roots of secant lines \n",
    "to better approximate a root of a function f.\n",
    "\n",
    "The two initial guesses do not need to bracket the root of the equation.\n",
    "\n",
    "It may not converge."
   ]
  },
  {
   "cell_type": "code",
   "execution_count": 107,
   "metadata": {},
   "outputs": [],
   "source": [
    "def secant1(a,b,sc) :\n",
    "    if f(a)*f(b) < 0 :\n",
    "        e = b -  ( ( f(b) * (b - a) )  / (f(b) - f(a))  )    #formula \n",
    "        lists1 = [[round(a,4) ,  round(f(a),4) ,  round(b,4) , round(f(b),4) , round(e,4) , round(f(e),4)] ]\n",
    "\n",
    "    \n",
    "        i=1\n",
    "        while i < 20:\n",
    "            if abs(f(e)) < sc:\n",
    "                break\n",
    "            else:\n",
    "                a = b\n",
    "                b = e\n",
    "                \n",
    "                e = b -  ( ( f(b) * (b - a) )  / ( f(b) - f(a))  )\n",
    "            \n",
    "            lists1.append ([round(a,4) ,  round(f(a),4), round(b,4) , round(f(b),4) , round(e,4) , round(f(e),4)])\n",
    "            i=i+1\n",
    "        return lists1\n",
    "    else :\n",
    "        print(None)"
   ]
  },
  {
   "cell_type": "code",
   "execution_count": 109,
   "metadata": {},
   "outputs": [
    {
     "name": "stdout",
     "output_type": "stream",
     "text": [
      "enter a:-2\n",
      "enter b:0\n",
      "None\n",
      "f(a)*f(b) < 0 should be satisfied\n"
     ]
    }
   ],
   "source": [
    "a =  float(input(\"enter a:\")) \n",
    "b = float(input(\"enter b:\")) \n",
    "sc = 0.00001\n",
    "\n",
    "lists1 = secant1(a,b,sc)\n",
    "cols1 = ['a' , 'f(a)' , 'b' , 'f(b)' , 'e' ,  'f(e)'  ]\n",
    "df1 = pd.DataFrame(lists1 , columns = cols1)\n",
    "\n",
    "if df1.empty == False :\n",
    "     \n",
    "    print(df1)\n",
    "    \n",
    "    print('')\n",
    "    print('the equation is ' , f(x))        \n",
    "    print(\"approx root is\" , float(df1['e'][-1:])  )\n",
    "\n",
    "else :\n",
    "    print('f(a)*f(b) < 0 should be satisfied')\n"
   ]
  },
  {
   "cell_type": "markdown",
   "metadata": {},
   "source": [
    "as we can see in secant method , the 2 intial need not bracket the root"
   ]
  },
  {
   "cell_type": "markdown",
   "metadata": {},
   "source": [
    " # - Regular-Falsi Method"
   ]
  },
  {
   "cell_type": "markdown",
   "metadata": {},
   "source": [
    "The secant method can easily be modified to make it a bracket method(i.e. it is convergent) . \n",
    "This yields a method called , Regular-Falsi .\n",
    "\n",
    "Takes larger time span to calculate root\n",
    "\n"
   ]
  },
  {
   "cell_type": "code",
   "execution_count": 123,
   "metadata": {},
   "outputs": [],
   "source": [
    "def regular_falsi(a , b, sc) : \n",
    "\n",
    "    e=( ( a*f(b) )-( f(a)*b )) / ( f(b)-f(a) )\n",
    "    lists2 = [[round(a,4) ,  round(f(a),4) ,  round(b,4) , round(f(b),4) , round(e,4) , round(f(e),4)] ]\n",
    "\n",
    "\n",
    "    i=1\n",
    "    while i<50:\n",
    "        if abs(f(e)) < sc:\n",
    "            break\n",
    "            \n",
    "        else:\n",
    "            if np.sign(f(e)) == np.sign(f(a)):\n",
    "                a = e\n",
    "            else:\n",
    "                b = e\n",
    "                \n",
    "            e=((a*f(b))-(f(a)*b))/(f(b)-f(a))           \n",
    "    \n",
    "        lists2.append( [round(a,4) ,  round(f(a),4) ,  round(b,4) , round(f(b),4) , round(e,4) , round(f(e),4)] )\n",
    "        i=i+1\n",
    "    return lists2\n"
   ]
  },
  {
   "cell_type": "code",
   "execution_count": 124,
   "metadata": {},
   "outputs": [
    {
     "name": "stdout",
     "output_type": "stream",
     "text": [
      "enter 1:-1.5\n",
      "enter 2:0.5\n",
      "         a    f(a)    b    f(b)       e    f(e)\n",
      "0  -1.5000  1.5625  0.5  0.5625  1.6250  2.6917\n",
      "1   1.6250  2.6917  0.5  0.5625  0.2028  0.9194\n",
      "2   0.2028  0.9194  0.5  0.5625  0.9684  0.0039\n",
      "3   0.9684  0.0039  0.5  0.5625  0.9716  0.0031\n",
      "4   0.9716  0.0031  0.5  0.5625  0.9743  0.0026\n",
      "5   0.9743  0.0026  0.5  0.5625  0.9764  0.0022\n",
      "6   0.9764  0.0022  0.5  0.5625  0.9783  0.0018\n",
      "7   0.9783  0.0018  0.5  0.5625  0.9799  0.0016\n",
      "8   0.9799  0.0016  0.5  0.5625  0.9812  0.0014\n",
      "9   0.9812  0.0014  0.5  0.5625  0.9824  0.0012\n",
      "10  0.9824  0.0012  0.5  0.5625  0.9835  0.0011\n",
      "11  0.9835  0.0011  0.5  0.5625  0.9844  0.0010\n",
      "12  0.9844  0.0010  0.5  0.5625  0.9852  0.0009\n",
      "13  0.9852  0.0009  0.5  0.5625  0.9860  0.0008\n",
      "14  0.9860  0.0008  0.5  0.5625  0.9866  0.0007\n",
      "15  0.9866  0.0007  0.5  0.5625  0.9872  0.0006\n",
      "16  0.9872  0.0006  0.5  0.5625  0.9878  0.0006\n",
      "17  0.9878  0.0006  0.5  0.5625  0.9883  0.0005\n",
      "18  0.9883  0.0005  0.5  0.5625  0.9888  0.0005\n",
      "19  0.9888  0.0005  0.5  0.5625  0.9892  0.0005\n",
      "20  0.9892  0.0005  0.5  0.5625  0.9896  0.0004\n",
      "21  0.9896  0.0004  0.5  0.5625  0.9900  0.0004\n",
      "22  0.9900  0.0004  0.5  0.5625  0.9903  0.0004\n",
      "23  0.9903  0.0004  0.5  0.5625  0.9907  0.0003\n",
      "24  0.9907  0.0003  0.5  0.5625  0.9910  0.0003\n",
      "25  0.9910  0.0003  0.5  0.5625  0.9912  0.0003\n",
      "26  0.9912  0.0003  0.5  0.5625  0.9915  0.0003\n",
      "27  0.9915  0.0003  0.5  0.5625  0.9918  0.0003\n",
      "28  0.9918  0.0003  0.5  0.5625  0.9920  0.0003\n",
      "29  0.9920  0.0003  0.5  0.5625  0.9922  0.0002\n",
      "30  0.9922  0.0002  0.5  0.5625  0.9924  0.0002\n",
      "31  0.9924  0.0002  0.5  0.5625  0.9926  0.0002\n",
      "32  0.9926  0.0002  0.5  0.5625  0.9928  0.0002\n",
      "33  0.9928  0.0002  0.5  0.5625  0.9930  0.0002\n",
      "34  0.9930  0.0002  0.5  0.5625  0.9932  0.0002\n",
      "35  0.9932  0.0002  0.5  0.5625  0.9933  0.0002\n",
      "36  0.9933  0.0002  0.5  0.5625  0.9935  0.0002\n",
      "37  0.9935  0.0002  0.5  0.5625  0.9936  0.0002\n",
      "38  0.9936  0.0002  0.5  0.5625  0.9938  0.0002\n",
      "39  0.9938  0.0002  0.5  0.5625  0.9939  0.0001\n",
      "40  0.9939  0.0001  0.5  0.5625  0.9940  0.0001\n",
      "41  0.9940  0.0001  0.5  0.5625  0.9942  0.0001\n",
      "42  0.9942  0.0001  0.5  0.5625  0.9943  0.0001\n",
      "43  0.9943  0.0001  0.5  0.5625  0.9944  0.0001\n",
      "44  0.9944  0.0001  0.5  0.5625  0.9945  0.0001\n",
      "45  0.9945  0.0001  0.5  0.5625  0.9946  0.0001\n",
      "46  0.9946  0.0001  0.5  0.5625  0.9947  0.0001\n",
      "47  0.9947  0.0001  0.5  0.5625  0.9948  0.0001\n",
      "48  0.9948  0.0001  0.5  0.5625  0.9949  0.0001\n",
      "49  0.9949  0.0001  0.5  0.5625  0.9950  0.0001\n",
      "\n",
      "approx root is 1.0\n",
      "the equation is  (x**2 - 1)**2\n"
     ]
    }
   ],
   "source": [
    "a=float(input(\"enter 1:\"))\n",
    "b = float(input(\"enter 2:\"))\n",
    "sc=0.0001 #Stopping criteria \n",
    "\n",
    "lists2 = regular_falsi(a , b, sc)    \n",
    "cols2 = ['a' , 'f(a)' , 'b' , 'f(b)' , 'e' ,  'f(e)'  ]  \n",
    "df2 = pd.DataFrame(lists2 , columns = cols2) \n",
    "\n",
    "print(df2) \n",
    "print('')\n",
    "print(\"approx root is\" , float(df2.e[-1:].round()))\n",
    "print(\"the equation is \" , f(x))"
   ]
  },
  {
   "cell_type": "markdown",
   "metadata": {},
   "source": [
    "# - Newton-Raphson Method\n",
    "one-point iterative method"
   ]
  },
  {
   "cell_type": "markdown",
   "metadata": {},
   "source": [
    "The initial approximation x0 can be computed by drawing a graph of \n",
    "f(x) or by running a far iteration of the bisection method and taking the approximate\n",
    "value obtained by the bisection method as the initial approximation for Newton-Ralphson iteration.\n",
    "\n",
    "Initial approximation x0  must be chosen carefully - if it is far from the root, the method will diverge.\n",
    "\n",
    "If the derivation of f(x) is computable, then the Newton method is an excellent rootfinding mehtod.\n",
    "\n",
    "If the derivative is not computable, use the secant method, instead.\n"
   ]
  },
  {
   "cell_type": "code",
   "execution_count": 128,
   "metadata": {},
   "outputs": [],
   "source": [
    "def newton_raphson(x1 , sc):\n",
    "    \n",
    "    r = g(x).evalf(subs={x: x1})\n",
    "    x2 = x1 - (f(x1) / r)\n",
    "    lists3 = [ [round(x1,4) ,  round(f(x1),4), round(r,4) , round(x2,4) ] ]\n",
    "\n",
    "    i=0\n",
    "    while i < 15:\n",
    "        if abs(f(x1)) < sc:\n",
    "            break\n",
    "        else:\n",
    "            x1 = x2\n",
    "            r = g(x).evalf(subs={x: x1})\n",
    "            x2 = x1 - ( f(x1) / r )\n",
    "            \n",
    "        lists3.append([round(x1,4) ,  round(f(x1),4) , round(r,4) , round(x2,4) ])\n",
    "        i=i+1\n",
    "    return lists3"
   ]
  },
  {
   "cell_type": "code",
   "execution_count": 132,
   "metadata": {},
   "outputs": [
    {
     "name": "stdout",
     "output_type": "stream",
     "text": [
      "enter 1:0.6\n"
     ]
    }
   ],
   "source": [
    "x1=float(input(\"enter 1:\"))\n",
    "sc = 0.00001 #Stopping criteria \n",
    "try : \n",
    "    lists3 = newton_raphson(x1 , sc)\n",
    "except TypeError:\n",
    "    print('intial starting point is not valid')\n",
    "    \n",
    "    "
   ]
  },
  {
   "cell_type": "code",
   "execution_count": 133,
   "metadata": {},
   "outputs": [
    {
     "name": "stdout",
     "output_type": "stream",
     "text": [
      "        x    f(x)    f'(x)     x+1\n",
      "0     0.6  0.4096  -1.5360  0.8667\n",
      "1  0.8667  0.0619  -0.8628  0.9385\n",
      "2  0.9385  0.0142  -0.4478  0.9702\n",
      "3  0.9702  0.0034  -0.2276  0.9853\n",
      "4  0.9853  0.0008  -0.1147  0.9927\n",
      "5  0.9927  0.0002  -0.0575  0.9964\n",
      "6  0.9964  0.0001  -0.0288  0.9982\n",
      "7  0.9982     0.0  -0.0144  0.9991\n",
      "8  0.9991     0.0  -0.0072  0.9995\n",
      "\n",
      "approx root is 0.9994964599609375\n",
      "the equation is  (x**2 - 1)**2\n"
     ]
    }
   ],
   "source": [
    "cols3 = ['x' , 'f(x)' , \"f'(x)\" , 'x+1']\n",
    "df3 = pd.DataFrame(lists3 , columns = cols3) \n",
    "\n",
    "print(df3)\n",
    "print('')\n",
    "print(\"approx root is\",float(df3['x+1'][-1:]))\n",
    "print(\"the equation is \" , f(x))"
   ]
  },
  {
   "cell_type": "markdown",
   "metadata": {},
   "source": [
    "# - Chebyshev's Method"
   ]
  },
  {
   "cell_type": "code",
   "execution_count": 134,
   "metadata": {},
   "outputs": [],
   "source": [
    "def chebyshev(x1 , sc):\n",
    "    r=g(x).evalf(subs={x: x1})\n",
    "    s=h(x).evalf(subs={x: x1})\n",
    "    \n",
    "    x2 = x1 - (f(x1)/r) + (f(x1)**2 * s / 2*r**3)\n",
    "    \n",
    "    lists4 = [ [round(x1,4) ,  round(f(x1),4), round(r,4), round(s,4) , round(x2,4) ] ]\n",
    "    \n",
    "    i=0\n",
    "    while i < 15:\n",
    "        if abs(f(x1)) < sc:\n",
    "            break\n",
    "        \n",
    "        else:\n",
    "\n",
    "            if round(x2,6)==1:\n",
    "                break\n",
    "    \n",
    "            else:\n",
    "\n",
    "                x1 = x2\n",
    "                \n",
    "                r=g(x).evalf(subs={x: x1})\n",
    "                \n",
    "                \n",
    "                s=h(x).evalf(subs={x: x1})\n",
    "                \n",
    "                x2 = x1 - ( f(x1)/ r ) + (( (f(x1)**2)  *  s ) / (r**3) ) # s is f'(x) & r is f''x() \n",
    "        lists4.append ([round(x1,4) ,  round(f(x1),4), round(r,4), round(s,4) , round(x2,4) ])        \n",
    "        i=i+1\n",
    "    return lists4\n"
   ]
  },
  {
   "cell_type": "code",
   "execution_count": 135,
   "metadata": {},
   "outputs": [
    {
     "name": "stdout",
     "output_type": "stream",
     "text": [
      "enter 1:0.5\n",
      "         x    f(x)    f'(x)             f''(x)     x+1\n",
      "0      0.5  0.5625  -1.5000  -1.00000000000000  1.4089\n",
      "1   1.4089  0.9704   5.5518            19.8212  1.3432\n",
      "2   1.3432  0.6468   4.3211            17.6510  1.2851\n",
      "3   1.2851  0.4243   3.3483            15.8166  1.2342\n",
      "4   1.2342  0.2738   2.5831            14.2789  1.1903\n",
      "5   1.1903  0.1737   1.9846            13.0019  1.1530\n",
      "6   1.1530  0.1085   1.5189            11.9521  1.1217\n",
      "7   1.1217  0.0667   1.1584            11.0982  1.0959\n",
      "8   1.0959  0.0404   0.8808            10.4111  1.0749\n",
      "9   1.0749  0.0241   0.6679             9.8641  1.0580\n",
      "10  1.0580  0.0143   0.5053             9.4328  1.0447\n",
      "11  1.0447  0.0083   0.3816             9.0958  1.0342\n",
      "12  1.0342  0.0048   0.2877             8.8346  1.0261\n",
      "13  1.0261  0.0028   0.2167             8.6336  1.0198\n",
      "14  1.0198  0.0016   0.1630             8.4796  1.0150\n",
      "15  1.0150  0.0009   0.1226             8.3623  1.0113\n",
      "\n",
      "approx root is 1.0112991333007812\n",
      "the equation is  (x**2 - 1)**2\n"
     ]
    }
   ],
   "source": [
    "x1 = float(input(\"enter 1:\"))\n",
    "sc = 0.0001\n",
    "try : \n",
    "    lists4 = chebyshev(x1 , sc)\n",
    "    cols4 = ['x' , 'f(x)' , \"f'(x)\" , \"f''(x)\"  , 'x+1']\n",
    "    df4 = pd.DataFrame(lists4 , columns = cols4)\n",
    "    print(df4)\n",
    "    print('')\n",
    "    print(\"approx root is\",float(df4['x+1'][-1:]))\n",
    "    print(\"the equation is \" , f(x))\n",
    "except TypeError:\n",
    "    print('intial starting point is not valid')"
   ]
  },
  {
   "cell_type": "markdown",
   "metadata": {},
   "source": [
    "# lets plot the various iteration methods"
   ]
  },
  {
   "cell_type": "code",
   "execution_count": 136,
   "metadata": {},
   "outputs": [
    {
     "data": {
      "image/png": "[encoded data removed]",
      "text/plain": [
       "<Figure size 864x720 with 5 Axes>"
      ]
     },
     "metadata": {
      "needs_background": "light"
     },
     "output_type": "display_data"
    }
   ],
   "source": [
    "plt.figure(figsize=(12,10))\n",
    "plt.suptitle('convergence of roots')\n",
    "\n",
    "\n",
    "\n",
    "ax = [plt.subplot2grid((3, 2), (0 , 0), colspan = 1),\n",
    "      plt.subplot2grid((3, 2), (0 , 1), colspan = 1),\n",
    "      plt.subplot2grid((3, 2), (1 , 0), colspan = 1),\n",
    "      plt.subplot2grid((3, 2), (1 , 1), colspan = 1),\n",
    "      plt.subplot2grid((3, 2), (2 , 0), colspan = 2),]\n",
    "\n",
    "\n",
    "ax[0].plot(df0.c)\n",
    "ax[0].set_title('bisection')\n",
    "\n",
    "ax[1].plot(df2.e,'tab:pink')\n",
    "ax[1].set_title('regular_falsi')\n",
    "\n",
    "ax[2].plot(df1.e,'tab:green')\n",
    "ax[2].set_title('secant')\n",
    "\n",
    "\n",
    "\n",
    "ax[3].plot(df3['x+1'],'tab:orange')\n",
    "ax[3].set_title('newton_raphson')\n",
    "\n",
    "ax[4].plot(df4['x+1'] , 'tab:red')\n",
    "ax[4].set_title('chebyshev',)\n",
    "\n",
    "plt.ylabel('iteration point ')\n",
    "plt.xlabel('no. of iterations')\n",
    "plt.show()"
   ]
  },
  {
   "cell_type": "code",
   "execution_count": 137,
   "metadata": {},
   "outputs": [],
   "source": [
    "#fig , ax = plt.subplots(3,3)\n",
    "#fig.suptitle('convergence of roots')\n",
    "#fig.set_figheight(10)\n",
    "#fig.set_figwidth(10)\n",
    "#ax[0,0].plot(df3['x+1'],'tab:orange')\n",
    "#ax[0,0].set_title('newton_raphson')\n",
    "#ax[0,1].plot(df2.e,'tab:pink')\n",
    "#ax[0,1].set_title('regular_falsi')\n",
    "#ax[1,0].plot(df1.e,'tab:green')\n",
    "#ax[1,0].set_title('secant')\n",
    "#ax[1,1].plot(df0.c)\n",
    "#ax[1,1].set_title('bisection')\n",
    "\n",
    "#plt.show()"
   ]
  },
  {
   "cell_type": "markdown",
   "metadata": {},
   "source": [
    "##### "
   ]
  }
 ],
 "metadata": {
  "kernelspec": {
   "display_name": "Python 3",
   "language": "python",
   "name": "python3"
  },
  "language_info": {
   "codemirror_mode": {
    "name": "ipython",
    "version": 3
   },
   "file_extension": ".py",
   "mimetype": "text/x-python",
   "name": "python",
   "nbconvert_exporter": "python",
   "pygments_lexer": "ipython3",
   "version": "3.8.8"
  }
 },
 "nbformat": 4,
 "nbformat_minor": 2
}
